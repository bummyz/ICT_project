{
 "cells": [
  {
   "cell_type": "code",
   "execution_count": null,
   "id": "initial_id",
   "metadata": {
    "collapsed": true
   },
   "outputs": [],
   "source": [
    "import traitlets\n",
    "import ipywidgets\n",
    "from IPython.display import display\n",
    "from jetbot import Camera, bgr8_to_jpeg\n",
    "\n",
    "camera = Camera.instance(width=300, height=300)\n",
    "\n",
    "image_widget = ipywidgets.Image()  # 이미지 위젯 초기화\n",
    "\n",
    "camera_link = traitlets.dlink((camera, 'value'), (image_widget, 'value'), transform=bgr8_to_jpeg)\n",
    "\n",
    "display(image_widget)\n"
   ]
  },
  {
   "cell_type": "code",
   "outputs": [],
   "source": [
    "import cv2\n",
    "import imutils\n",
    "import datetime\n",
    "\n",
    "# avg 변수는 기준 프레임(배경)을 저장하여 새로운 프레임과 비교합니다.\n",
    "avg = None\n",
    "\n",
    "lastMovtionCaptured = datetime.datetime.now()\n",
    "\n",
    "def motionDetect(imgInput):\n",
    "    global avg, lastMovtionCaptured\n",
    "    \n",
    "    # 현재 타임스탬프를 가져옵니다.\n",
    "    timestamp = datetime.datetime.now()\n",
    "    \n",
    "    # 프레임을 그레이스케일로 변환합니다.\n",
    "    gray = cv2.cvtColor(imgInput, cv2.COLOR_BGR2GRAY)\n",
    "    \n",
    "    # 가우시안 블러를 적용하여 노이즈를 줄입니다.\n",
    "    gray = cv2.GaussianBlur(gray, (21, 21), 0)\n",
    "\n",
    "    # 기준 프레임(배경)이 없으면 현재 프레임을 기준 프레임으로 설정합니다.\n",
    "    if avg is None:\n",
    "        avg = gray.copy().astype(\"float\")\n",
    "        return imgInput\n",
    "\n",
    "    # 배경 업데이트\n",
    "    cv2.accumulateWeighted(gray, avg, 0.5)\n",
    "    \n",
    "    # 현재 프레임과 기준 프레임의 차이를 계산합니다.\n",
    "    frameDelta = cv2.absdiff(gray, cv2.convertScaleAbs(avg))\n",
    "\n",
    "    # 변화가 있는 영역을 이진화합니다.\n",
    "    thresh = cv2.threshold(frameDelta, 5, 255, cv2.THRESH_BINARY)[1]\n",
    "    thresh = cv2.dilate(thresh, None, iterations=2)\n",
    "    cnts = cv2.findContours(thresh.copy(), cv2.RETR_EXTERNAL, cv2.CHAIN_APPROX_SIMPLE)\n",
    "    cnts = imutils.grab_contours(cnts)\n",
    "\n",
    "    # 변화가 있는 모든 영역을 찾고, 그 영역을 사각형으로 표시합니다.\n",
    "    for c in cnts:\n",
    "        if cv2.contourArea(c) < 30:\n",
    "            continue\n",
    "\n",
    "        (mov_x, mov_y, mov_w, mov_h) = cv2.boundingRect(c)\n",
    "        cv2.rectangle(imgInput, (mov_x, mov_y), (mov_x + mov_w, mov_y + mov_h), (128, 255, 0), 1)\n",
    "\n",
    "        lastMovtionCaptured = timestamp\n",
    "\n",
    "    # 움직임을 감지한 후 0.5초 동안 움직임이 감지된 것으로 간주합니다.\n",
    "    if (timestamp - lastMovtionCaptured).seconds >= 0.5:\n",
    "        cv2.putText(imgInput, \"Motion Detecting\", (10, 80), cv2.FONT_HERSHEY_SIMPLEX, 0.5, (128, 255, 0), 1, cv2.LINE_AA)\n",
    "    else:\n",
    "        cv2.putText(imgInput, \"Motion Detected\", (10, 80), cv2.FONT_HERSHEY_SIMPLEX, 0.5, (0, 128, 255), 1, cv2.LINE_AA)\n",
    "    \n",
    "    return imgInput\n"
   ],
   "metadata": {
    "collapsed": false
   },
   "id": "a3ed37ca50997341"
  },
  {
   "cell_type": "code",
   "outputs": [],
   "source": [
    "def execute(change):\n",
    "    global image_widget\n",
    "    image = change['new']\n",
    "    image_widget.value = bgr8_to_jpeg(motionDetect(image))\n",
    "    \n",
    "execute({'new': camera.value})\n",
    "camera.unobserve_all()\n",
    "camera.observe(execute, names='value')\n"
   ],
   "metadata": {
    "collapsed": false
   },
   "id": "b603b0f6a50bfaa7"
  },
  {
   "cell_type": "code",
   "outputs": [],
   "source": [
    "camera.unobserve(execute, names='value')\n",
    "camera.stop()\n"
   ],
   "metadata": {
    "collapsed": false
   },
   "id": "b7f75096885ec7b"
  }
 ],
 "metadata": {
  "kernelspec": {
   "display_name": "Python 3",
   "language": "python",
   "name": "python3"
  },
  "language_info": {
   "codemirror_mode": {
    "name": "ipython",
    "version": 2
   },
   "file_extension": ".py",
   "mimetype": "text/x-python",
   "name": "python",
   "nbconvert_exporter": "python",
   "pygments_lexer": "ipython2",
   "version": "2.7.6"
  }
 },
 "nbformat": 4,
 "nbformat_minor": 5
}
